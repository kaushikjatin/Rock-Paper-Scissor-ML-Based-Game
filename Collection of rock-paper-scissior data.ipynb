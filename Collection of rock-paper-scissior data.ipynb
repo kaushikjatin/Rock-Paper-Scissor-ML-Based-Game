{
 "cells": [
  {
   "cell_type": "code",
   "execution_count": 10,
   "metadata": {},
   "outputs": [],
   "source": [
    "import cv2\n",
    "import os\n",
    "import sys #The sys module provides functions and variables used to manipulate different parts of the Python runtime environment. This module provides access to some variables used or maintained by the interpreter and to functions that interact strongly with the interpreter."
   ]
  },
  {
   "cell_type": "code",
   "execution_count": 17,
   "metadata": {},
   "outputs": [],
   "source": [
    "# in this block we will make the directory to store the data into the folder.....\n",
    "\n",
    "folder_name=\"rock_paper_scissor_test_data\";\n",
    "symbols=[\"rock\",\"paper\",\"scissor\",\"none\"];\n",
    "label_name=symbols[3];\n",
    "no_samples=200;\n",
    "data_path=os.path.join(folder_name,label_name);\n",
    "\n",
    "\n",
    "try:\n",
    "    os.mkdir(folder_name)\n",
    "except:\n",
    "    pass\n",
    "try:\n",
    "    os.mkdir(data_path);\n",
    "except:\n",
    "    print(\"already exits.....check whether data is already available to you or not\");\n",
    "    pass;"
   ]
  },
  {
   "cell_type": "code",
   "execution_count": 18,
   "metadata": {},
   "outputs": [
    {
     "name": "stdout",
     "output_type": "stream",
     "text": [
      "\n",
      "200 image(s) saved to rock_paper_scissor_test_data/none\n"
     ]
    }
   ],
   "source": [
    "cap=cv2.VideoCapture(0) # 0 is passed to select the device camera....we can pass 1 or a path to select another camera or a video\n",
    "count=0;\n",
    "start=False;\n",
    "\n",
    "while True:\n",
    "    ret,frame=cap.read();\n",
    "    if not ret:\n",
    "        continue;\n",
    "    if count==no_samples:\n",
    "        break;\n",
    "    \n",
    "    cv2.rectangle(frame, (100, 100), (500, 500), (255, 255, 255), 2)\n",
    "    if start:\n",
    "        img=frame[100:500,100:500,:];\n",
    "        save_path = os.path.join(data_path, '{}.jpg'.format(count + 1));\n",
    "        cv2.imwrite(save_path, img);\n",
    "        count+=1;\n",
    "        \n",
    "        \n",
    "    font = cv2.FONT_HERSHEY_SIMPLEX\n",
    "    cv2.putText(frame, \"Collecting {}\".format(count),(5, 50), font, 0.7, (0, 255, 255), 2, cv2.LINE_AA)\n",
    "    cv2.imshow(\"Collecting images\", frame);\n",
    "    k = cv2.waitKey(70)\n",
    "    if k == ord('a'):\n",
    "        start = not start\n",
    "        \n",
    "print(\"\\n{} image(s) saved to {}\".format(count, data_path))\n",
    "cap.release()\n",
    "cv2.destroyAllWindows()"
   ]
  },
  {
   "cell_type": "code",
   "execution_count": 7,
   "metadata": {},
   "outputs": [
    {
     "name": "stdout",
     "output_type": "stream",
     "text": [
      "['Music', 'Harry_Potter_Cloak.ipynb', '.condarc', '.DS_Store', '.CFUserTextEncoding', 'Untitled.ipynb', 'rock-paper-scissors-model.h5', 'Pictures', '.ipython', 'Desktop', 'Library', '.matplotlib', 'rock_paper_scissor_data', 'Deep_Learning', '.bash_sessions', 'Public', '.anaconda', 'Movies', 'Applications', 'opt', '.Trash', '.ipynb_checkpoints', '.jupyter', '.keras', 'Rock_Paper_Scissor_model.ipynb', 'Documents', '.bash_profile', 'Downloads', '.bash_history', 'Collection of rock-paper-scissior data.ipynb', '.conda']\n"
     ]
    }
   ],
   "source": [
    "print(os.listdir())"
   ]
  },
  {
   "cell_type": "code",
   "execution_count": null,
   "metadata": {},
   "outputs": [],
   "source": [
    "w = cap.get(cv2.CAP_PROP_FRAME_WIDTH)\n",
    "h = cap.get(cv2.CAP_PROP_FRAME_HEIGHT)\n",
    "print(w,h)\n",
    "_,frame=cap.read();\n",
    "print(frame.shape)"
   ]
  }
 ],
 "metadata": {
  "kernelspec": {
   "display_name": "Python 3",
   "language": "python",
   "name": "python3"
  },
  "language_info": {
   "codemirror_mode": {
    "name": "ipython",
    "version": 3
   },
   "file_extension": ".py",
   "mimetype": "text/x-python",
   "name": "python",
   "nbconvert_exporter": "python",
   "pygments_lexer": "ipython3",
   "version": "3.8.5"
  }
 },
 "nbformat": 4,
 "nbformat_minor": 4
}
