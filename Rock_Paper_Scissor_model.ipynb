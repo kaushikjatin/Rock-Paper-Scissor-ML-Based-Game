{
 "cells": [
  {
   "cell_type": "code",
   "execution_count": 33,
   "metadata": {},
   "outputs": [],
   "source": [
    "import cv2;\n",
    "import os;\n",
    "import numpy as np;\n",
    "import random;\n",
    "import tensorflow\n",
    "from keras.utils import np_utils\n",
    "from keras.layers import Dense;\n",
    "import tensorflow_hub as hub\n",
    "import time\n",
    "import PIL.Image as Image\n",
    "import matplotlib.pylab as plt\n",
    "from keras.models import Sequential\n",
    "from keras.applications import vgg16\n",
    "from keras.optimizers import Adam\n"
   ]
  },
  {
   "cell_type": "code",
   "execution_count": 34,
   "metadata": {},
   "outputs": [],
   "source": [
    "# in this we prepared out x_train and y_train which will be ready to use after our model is ready..........\n",
    "dataset=[];\n",
    "CLASS_MAP = {\n",
    "            \"rock\": 0,\n",
    "            \"paper\": 1,\n",
    "            \"scissor\": 2,\n",
    "            \"none\": 3\n",
    "            }\n",
    "path=\"rock_paper_scissor_data\";\n",
    "path=os.path.join(os.getcwd(),path);\n",
    "\n",
    "\n",
    "for directory in os.listdir(path):\n",
    "    if directory.startswith(\".\"):\n",
    "        continue;\n",
    "    new_path=os.path.join(path,directory);\n",
    "    for image in os.listdir(new_path):\n",
    "        img=cv2.imread(os.path.join(new_path,image));\n",
    "        img = cv2.cvtColor(img, cv2.COLOR_BGR2RGB)\n",
    "        img = cv2.resize(img, (224, 224))\n",
    "        dataset.append([img,directory]);\n",
    "        \n",
    "        \n",
    "random.shuffle(dataset)\n",
    "x_train,y_train=zip(*dataset);\n",
    "\n",
    "\n",
    "def mapper(val):\n",
    "    return CLASS_MAP[val]\n",
    "\n",
    "\n",
    "NUM_CLASSES = len(CLASS_MAP)\n",
    "y_train = list(map(mapper,y_train))\n",
    "y_train = np_utils.to_categorical(y_train);"
   ]
  },
  {
   "cell_type": "code",
   "execution_count": 38,
   "metadata": {},
   "outputs": [],
   "source": [
    "def get_model():\n",
    "    pre_trained_model = vgg16.VGG16()\n",
    "    print(pre_trained_model.summary())\n",
    "    model=Sequential();\n",
    "    for layer in pre_trained_model.layers[:-1]:\n",
    "        model.add(layer);\n",
    "    for layer in model.layers:\n",
    "        layer.trainable = False\n",
    "    model.add(Dense(4, activation='softmax'));\n",
    "    return model;"
   ]
  },
  {
   "cell_type": "code",
   "execution_count": 40,
   "metadata": {},
   "outputs": [
    {
     "name": "stdout",
     "output_type": "stream",
     "text": [
      "Model: \"vgg16\"\n",
      "_________________________________________________________________\n",
      "Layer (type)                 Output Shape              Param #   \n",
      "=================================================================\n",
      "input_4 (InputLayer)         [(None, 224, 224, 3)]     0         \n",
      "_________________________________________________________________\n",
      "block1_conv1 (Conv2D)        (None, 224, 224, 64)      1792      \n",
      "_________________________________________________________________\n",
      "block1_conv2 (Conv2D)        (None, 224, 224, 64)      36928     \n",
      "_________________________________________________________________\n",
      "block1_pool (MaxPooling2D)   (None, 112, 112, 64)      0         \n",
      "_________________________________________________________________\n",
      "block2_conv1 (Conv2D)        (None, 112, 112, 128)     73856     \n",
      "_________________________________________________________________\n",
      "block2_conv2 (Conv2D)        (None, 112, 112, 128)     147584    \n",
      "_________________________________________________________________\n",
      "block2_pool (MaxPooling2D)   (None, 56, 56, 128)       0         \n",
      "_________________________________________________________________\n",
      "block3_conv1 (Conv2D)        (None, 56, 56, 256)       295168    \n",
      "_________________________________________________________________\n",
      "block3_conv2 (Conv2D)        (None, 56, 56, 256)       590080    \n",
      "_________________________________________________________________\n",
      "block3_conv3 (Conv2D)        (None, 56, 56, 256)       590080    \n",
      "_________________________________________________________________\n",
      "block3_pool (MaxPooling2D)   (None, 28, 28, 256)       0         \n",
      "_________________________________________________________________\n",
      "block4_conv1 (Conv2D)        (None, 28, 28, 512)       1180160   \n",
      "_________________________________________________________________\n",
      "block4_conv2 (Conv2D)        (None, 28, 28, 512)       2359808   \n",
      "_________________________________________________________________\n",
      "block4_conv3 (Conv2D)        (None, 28, 28, 512)       2359808   \n",
      "_________________________________________________________________\n",
      "block4_pool (MaxPooling2D)   (None, 14, 14, 512)       0         \n",
      "_________________________________________________________________\n",
      "block5_conv1 (Conv2D)        (None, 14, 14, 512)       2359808   \n",
      "_________________________________________________________________\n",
      "block5_conv2 (Conv2D)        (None, 14, 14, 512)       2359808   \n",
      "_________________________________________________________________\n",
      "block5_conv3 (Conv2D)        (None, 14, 14, 512)       2359808   \n",
      "_________________________________________________________________\n",
      "block5_pool (MaxPooling2D)   (None, 7, 7, 512)         0         \n",
      "_________________________________________________________________\n",
      "flatten (Flatten)            (None, 25088)             0         \n",
      "_________________________________________________________________\n",
      "fc1 (Dense)                  (None, 4096)              102764544 \n",
      "_________________________________________________________________\n",
      "fc2 (Dense)                  (None, 4096)              16781312  \n",
      "_________________________________________________________________\n",
      "predictions (Dense)          (None, 1000)              4097000   \n",
      "=================================================================\n",
      "Total params: 138,357,544\n",
      "Trainable params: 138,357,544\n",
      "Non-trainable params: 0\n",
      "_________________________________________________________________\n",
      "None\n",
      "Epoch 1/5\n",
      "25/25 [==============================] - 207s 8s/step - loss: 0.6185 - accuracy: 0.7954\n",
      "Epoch 2/5\n",
      "25/25 [==============================] - 205s 8s/step - loss: 0.0064 - accuracy: 0.9996\n",
      "Epoch 3/5\n",
      "25/25 [==============================] - 221s 9s/step - loss: 0.0105 - accuracy: 1.0000\n",
      "Epoch 4/5\n",
      "25/25 [==============================] - 208s 8s/step - loss: 0.0046 - accuracy: 1.0000\n",
      "Epoch 5/5\n",
      "25/25 [==============================] - 206s 8s/step - loss: 0.0016 - accuracy: 1.0000\n"
     ]
    },
    {
     "data": {
      "text/plain": [
       "<tensorflow.python.keras.callbacks.History at 0x1283d9850>"
      ]
     },
     "execution_count": 40,
     "metadata": {},
     "output_type": "execute_result"
    }
   ],
   "source": [
    "model = get_model()\n",
    "model.compile(\n",
    "    optimizer=Adam(lr=0.001),\n",
    "    loss='categorical_crossentropy',\n",
    "    metrics=['accuracy']\n",
    ")\n",
    "model.fit(np.array(x_train), np.array(y_train), epochs=5)"
   ]
  },
  {
   "cell_type": "code",
   "execution_count": 41,
   "metadata": {},
   "outputs": [],
   "source": [
    "model.save(\"rock-paper-scissors-model.h5\")"
   ]
  },
  {
   "cell_type": "code",
   "execution_count": 30,
   "metadata": {},
   "outputs": [],
   "source": [
    "from keras.applications import vgg16\n"
   ]
  },
  {
   "cell_type": "code",
   "execution_count": 37,
   "metadata": {},
   "outputs": [],
   "source": [
    "from keras.optimizers import Adam\n"
   ]
  },
  {
   "cell_type": "code",
   "execution_count": null,
   "metadata": {},
   "outputs": [],
   "source": []
  }
 ],
 "metadata": {
  "kernelspec": {
   "display_name": "Python 3",
   "language": "python",
   "name": "python3"
  },
  "language_info": {
   "codemirror_mode": {
    "name": "ipython",
    "version": 3
   },
   "file_extension": ".py",
   "mimetype": "text/x-python",
   "name": "python",
   "nbconvert_exporter": "python",
   "pygments_lexer": "ipython3",
   "version": "3.8.5"
  }
 },
 "nbformat": 4,
 "nbformat_minor": 4
}
