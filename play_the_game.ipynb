{
 "cells": [
  {
   "cell_type": "code",
   "execution_count": 1,
   "metadata": {
    "scrolled": true
   },
   "outputs": [],
   "source": [
    "from keras.models import load_model;\n",
    "from random import choice;\n",
    "import numpy as np;\n",
    "import cv2;\n",
    "import time;"
   ]
  },
  {
   "cell_type": "code",
   "execution_count": 2,
   "metadata": {},
   "outputs": [],
   "source": [
    "# here we have defined all our functions which will be needed in playing of our game.....\n",
    "model=load_model(\"rock-paper-scissors-model.h5\");\n",
    "class_map={\n",
    "            0:\"Rock\",\n",
    "            1:\"Paper\",\n",
    "            2:\"Scissor\",\n",
    "            3:\"None\"\n",
    "        };\n",
    "\n",
    "\n",
    "def predict_winner(user,bot):\n",
    "    if user=='Rock':\n",
    "        if bot==\"Paper\":\n",
    "            return \"BOT\"\n",
    "        elif bot==\"Scissor\":\n",
    "            return \"USER\"\n",
    "        \n",
    "    elif user==\"Paper\":\n",
    "         if bot==\"Rock\":\n",
    "            return \"User\"\n",
    "         elif bot==\"Scissor\":\n",
    "            return \"BOT\"\n",
    "        \n",
    "    elif user==\"Scissor\":\n",
    "         if bot==\"Paper\":\n",
    "            return \"USER\"\n",
    "         elif bot==\"Rock\":\n",
    "            return \"\"\n",
    "    return \"TIE\";\n",
    "\n",
    "\n",
    "\n",
    "def prepare_frame(frame,user_move,bot_move,bot_frame,message):\n",
    "    cv2.rectangle(frame,(100,100),(500,500),(255,255,255),2); # frame for user.\n",
    "    cv2.rectangle(frame,(800,100),(1200,500),(255,255,255),2); # frame for computer.\n",
    "    frame[100:500,800:1200]=bot_frame;\n",
    "    font = cv2.FONT_HERSHEY_SIMPLEX\n",
    "    cv2.putText(frame, \"Your Move: \" + user_move,(50, 50), font, 1.2, (255, 255, 255), 2, cv2.LINE_AA);\n",
    "    cv2.putText(frame, \"Bot's Move: \" + bot_move,(750, 50), font, 1.2, (255, 255, 255), 2, cv2.LINE_AA);\n",
    "    cv2.putText(frame, message,(400, 600), font, 2, (0, 0, 255), 4, cv2.LINE_AA);\n",
    "    return frame;\n",
    "\n",
    "\n",
    "def show_frames_to_user(cap):\n",
    "    temp=time.time();\n",
    "    while temp+1>time.time():\n",
    "        res,frame=cap.read();\n",
    "        if not res:\n",
    "            break;\n",
    "        frame=prepare_frame(frame,\"\",\"\",frame[100:500,800:1200,:],\"Here we Go\");\n",
    "        cv2.imshow(\"Rock-Paper-Scissor\",frame);\n",
    "        cv2.waitKey(10);\n",
    "        \n",
    "    # now we will select a frame for checking the user's move......\n",
    "    \n",
    "    res,frame=cap.read();\n",
    "    frame=prepare_frame(frame,\"\",\"\",frame[100:500,800:1200,:],\"Here we Go\");\n",
    "    cv2.imshow(\"Rock-Paper-Scissor\",frame);\n",
    "    cv2.waitKey(10);\n",
    "    img=frame[100:500,100:500];\n",
    "    img = cv2.cvtColor(img, cv2.COLOR_BGR2RGB)\n",
    "    img = cv2.resize(img, (224, 224))\n",
    "    pred = model.predict(np.array([img]))\n",
    "    move_code = np.argmax(pred[0])\n",
    "    user_move=class_map[move_code];\n",
    "    if(user_move==\"None\"):\n",
    "        print(\"Model is Predicting Wrong\");\n",
    "        cv2.imshow(\"Rock-Paper-Scissor\",img);\n",
    "        cv2.waitKey(0);\n",
    "    \n",
    "    bot_move = choice(['Rock', 'Paper', 'Scissor']);\n",
    "    winner=predict_winner(user_move,bot_move);\n",
    "    \n",
    "    temp=time.time();\n",
    "    while temp+2>time.time():\n",
    "        res,frame=cap.read();\n",
    "        if not res:\n",
    "            break;\n",
    "        icon = cv2.imread(\"images/{}.png\".format(bot_move));\n",
    "        icon = cv2.resize(icon, (400, 400))\n",
    "        frame=prepare_frame(frame,user_move,bot_move,icon,\"Winner:\"+winner);\n",
    "        cv2.imshow(\"Rock-Paper-Scissor\",frame);\n",
    "        cv2.waitKey(10);\n",
    "    \n",
    "    \n",
    "\n",
    "def show_3_2_1_go():\n",
    "    list1=[\"Three\",\"Two\",\"One\",\"Go\"];\n",
    "    for i in list1:\n",
    "        temp=time.time();\n",
    "        icon = cv2.imread(\"images/{}.jpg\".format(i))\n",
    "        icon=cv2.resize(icon,(1280,720))\n",
    "        cv2.imshow(\"Rock-Paper-Scissor\",icon);\n",
    "        k = cv2.waitKey(200)\n",
    "        \n",
    "        \n",
    "        \n",
    "def show_instructions(cap):\n",
    "    temp=time.time();\n",
    "    while temp+5>time.time():\n",
    "        res,frame=cap.read();\n",
    "        if not res:\n",
    "            break;\n",
    "        cv2.rectangle(frame,(100,100),(500,500),(0,255,0),2); # frame for user.\n",
    "        cv2.rectangle(frame,(800,100),(1200,500),(0,255,0),2); # frame for computer.\n",
    "        font = cv2.FONT_HERSHEY_SIMPLEX\n",
    "        cv2.putText(frame, \"YOUR MOVE BOX\",(50, 50), font, 1.2, (0,0,255), 2, cv2.LINE_AA);\n",
    "        cv2.putText(frame, \"Bot's Move BOX \",(750, 50), font, 1.2, (0,0,255), 2, cv2.LINE_AA);\n",
    "        cv2.putText(frame, \"Show your move in your Box\",(400, 600), font, 2, (0,0,255), 4, cv2.LINE_AA);\n",
    "        cv2.imshow(\"Rock-Paper-Scissor\",frame);\n",
    "        k=cv2.waitKey(10);\n",
    "        if k==ord('q'):\n",
    "            break;"
   ]
  },
  {
   "cell_type": "code",
   "execution_count": null,
   "metadata": {},
   "outputs": [
    {
     "name": "stdout",
     "output_type": "stream",
     "text": [
      "Model is Predicting Wrong\n"
     ]
    }
   ],
   "source": [
    "cap=cv2.VideoCapture(0);\n",
    "cv2.namedWindow(\"Rock-Paper-Scissor\")        # Create a named window\n",
    "cv2.moveWindow(\"Rock-Paper-Scissor\", 40,30)\n",
    "show_instructions(cap);\n",
    "x=10;\n",
    "while x!=0:\n",
    "    show_3_2_1_go();\n",
    "    show_frames_to_user(cap);\n",
    "    x-=1;\n",
    "\n",
    "\n",
    "cap.release();\n",
    "cv2.destroyAllWindows();"
   ]
  },
  {
   "cell_type": "code",
   "execution_count": 4,
   "metadata": {},
   "outputs": [
    {
     "name": "stdout",
     "output_type": "stream",
     "text": [
      "(720, 1280, 3)\n"
     ]
    }
   ],
   "source": [
    "cap=cv2.VideoCapture(0);\n",
    "res,frame=cap.read();\n",
    "print(frame.shape)\n",
    "cap.release();"
   ]
  },
  {
   "cell_type": "code",
   "execution_count": 8,
   "metadata": {},
   "outputs": [
    {
     "name": "stdout",
     "output_type": "stream",
     "text": [
      "(400, 400, 3)\n"
     ]
    }
   ],
   "source": [
    "bot_move = choice(['Rock', 'Paper', 'Scissor']);\n",
    "icon = cv2.imread(\"images/{}.png\".format(bot_move));\n",
    "icon = cv2.resize(icon, (400, 400))\n",
    "print(icon.shape)\n",
    "# cv2.imshow(\"sjvdf\",icon);\n",
    "# cv2.waitKey(0);"
   ]
  },
  {
   "cell_type": "code",
   "execution_count": 14,
   "metadata": {},
   "outputs": [],
   "source": [
    "cap.release()"
   ]
  },
  {
   "cell_type": "code",
   "execution_count": null,
   "metadata": {},
   "outputs": [],
   "source": []
  }
 ],
 "metadata": {
  "kernelspec": {
   "display_name": "Python 3",
   "language": "python",
   "name": "python3"
  },
  "language_info": {
   "codemirror_mode": {
    "name": "ipython",
    "version": 3
   },
   "file_extension": ".py",
   "mimetype": "text/x-python",
   "name": "python",
   "nbconvert_exporter": "python",
   "pygments_lexer": "ipython3",
   "version": "3.8.5"
  }
 },
 "nbformat": 4,
 "nbformat_minor": 4
}
