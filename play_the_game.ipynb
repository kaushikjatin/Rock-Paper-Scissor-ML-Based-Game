{
 "cells": [
  {
   "cell_type": "code",
   "execution_count": 1,
   "metadata": {
    "scrolled": true
   },
   "outputs": [],
   "source": [
    "from keras.models import load_model;\n",
    "import numpy as np;\n",
    "import cv2;\n",
    "import time;"
   ]
  },
  {
   "cell_type": "code",
   "execution_count": 6,
   "metadata": {},
   "outputs": [],
   "source": [
    "# here we have defined all our functions which will be needed in playing of our game.....\n",
    "model=load_model(\"rock-paper-scissors-model.h5\");\n",
    "class_map={\n",
    "            0:\"Rock\",\n",
    "            1:\"Paper\",\n",
    "            2:\"Scissor\",\n",
    "            3:\"None\"\n",
    "        };\n",
    "\n",
    "\n",
    "\n",
    "\n",
    "def winner(user,bot):\n",
    "    if user=='Rock':\n",
    "        if bot==\"Paper\":\n",
    "            return \"BOT\"\n",
    "        elif bot==\"Scissor\":\n",
    "            return \"USER\"\n",
    "        \n",
    "    elif user==\"Paper\":\n",
    "         if bot==\"Paper\":\n",
    "            return \"TIE\"\n",
    "         elif bot==\"Scissor\":\n",
    "            return \"BOT\"\n",
    "        \n",
    "    elif user==\"Scissor\":\n",
    "         if bot==\"Paper\":\n",
    "            return \"USEr\"\n",
    "         elif bot==\"Scissor\":\n",
    "            return \"TIE\"\n",
    "    return \"TIE\";\n",
    "\n",
    "\n",
    "\n",
    "def prepare_frame(frame,user_move,bot_move,bot_frame,message):\n",
    "    cv2.rectangle(frame,(100,100),(500,500),(255,255,255),2); # frame for user.\n",
    "    cv2.rectangle(frame,(800,100),(1200,500),(255,255,255),2); # frame for computer.\n",
    "    frame[800:1200,100:500]=bot_frame;\n",
    "    font = cv2.FONT_HERSHEY_SIMPLEX\n",
    "    cv2.putText(frame, \"Your Move: \" + user_move,\n",
    "                (50, 50), font, 1.2, (255, 255, 255), 2, cv2.LINE_AA);\n",
    "    cv2.putText(frame, \"Bot's Move: \" + bot_move,\n",
    "                (750, 50), font, 1.2, (255, 255, 255), 2, cv2.LINE_AA);\n",
    "    cv2.putText(frame, message,\n",
    "                (400, 600), font, 2, (0, 0, 255), 4, cv2.LINE_AA);\n",
    "    return frame;\n",
    "\n",
    "def show_3_2_1_go():\n",
    "    list1=[\"Three\",\"Two\",\"One\",\"Go\"];\n",
    "    for i in list1:\n",
    "        temp=time.time();\n",
    "        icon = cv2.imread(\"images/{}.jpg\".format(i))\n",
    "        icon=cv2.resize(icon,(1000,600))\n",
    "        cv2.imshow(\"Rock-Paper_Scissor\",icon);\n",
    "        k = cv2.waitKey(400)"
   ]
  },
  {
   "cell_type": "code",
   "execution_count": null,
   "metadata": {},
   "outputs": [],
   "source": [
    "cap=cv2.VideoCapture(0);\n",
    "while True:\n",
    "    show_3_2_1_go();\n",
    "    res,frame=cap.read();\n",
    "    if not res:\n",
    "        continue;\n",
    "    \n",
    "    "
   ]
  },
  {
   "cell_type": "code",
   "execution_count": 9,
   "metadata": {},
   "outputs": [],
   "source": []
  },
  {
   "cell_type": "code",
   "execution_count": 8,
   "metadata": {},
   "outputs": [],
   "source": []
  },
  {
   "cell_type": "code",
   "execution_count": null,
   "metadata": {},
   "outputs": [],
   "source": []
  }
 ],
 "metadata": {
  "kernelspec": {
   "display_name": "Python 3",
   "language": "python",
   "name": "python3"
  },
  "language_info": {
   "codemirror_mode": {
    "name": "ipython",
    "version": 3
   },
   "file_extension": ".py",
   "mimetype": "text/x-python",
   "name": "python",
   "nbconvert_exporter": "python",
   "pygments_lexer": "ipython3",
   "version": "3.8.5"
  }
 },
 "nbformat": 4,
 "nbformat_minor": 4
}
