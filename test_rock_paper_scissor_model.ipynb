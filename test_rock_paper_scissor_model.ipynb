{
 "cells": [
  {
   "cell_type": "code",
   "execution_count": 1,
   "metadata": {},
   "outputs": [],
   "source": [
    "from keras.models import load_model\n",
    "from keras.utils import np_utils\n",
    "import cv2\n",
    "import numpy as np\n",
    "import sys\n",
    "import os;\n",
    "\n",
    "dataset=[];\n",
    "CLASS_MAP = {\n",
    "            \"rock\": 0,\n",
    "            \"paper\": 1,\n",
    "            \"scissor\": 2,\n",
    "            \"none\": 3\n",
    "            }\n",
    "path=\"rock_paper_scissor_test_data\";\n",
    "path=os.path.join(os.getcwd(),path);\n",
    "\n",
    "\n",
    "for directory in os.listdir(path):\n",
    "    if directory.startswith(\".\"):\n",
    "        continue;\n",
    "    new_path=os.path.join(path,directory);\n",
    "    for image in os.listdir(new_path):\n",
    "        img=cv2.imread(os.path.join(new_path,image));\n",
    "        img = cv2.cvtColor(img, cv2.COLOR_BGR2RGB)\n",
    "        img = cv2.resize(img, (224, 224))\n",
    "        dataset.append([img,directory]);\n",
    "        \n",
    "x_test,y_test=zip(*dataset);\n",
    "\n",
    "\n",
    "def mapper(val):\n",
    "    return CLASS_MAP[val]\n",
    "\n",
    "\n",
    "NUM_CLASSES = len(CLASS_MAP)\n",
    "y_test = list(map(mapper,y_test))\n",
    "y_test = np_utils.to_categorical(y_test);"
   ]
  },
  {
   "cell_type": "code",
   "execution_count": 2,
   "metadata": {},
   "outputs": [
    {
     "name": "stdout",
     "output_type": "stream",
     "text": [
      "25/25 [==============================] - 222s 9s/step - loss: 2.6389 - accuracy: 0.6325\n",
      "\n",
      "Loss = 2.6389055252075195\n",
      "Test Accuracy = 0.6324999928474426\n"
     ]
    }
   ],
   "source": [
    "model = load_model(\"rock-paper-scissors-model.h5\");\n",
    "preds = model.evaluate(x=np.array(x_test), y=np.array(y_test))\n",
    "print()\n",
    "print (\"Loss = \" + str(preds[0]))\n",
    "print (\"Test Accuracy = \" + str(preds[1]))"
   ]
  },
  {
   "cell_type": "code",
   "execution_count": 13,
   "metadata": {},
   "outputs": [
    {
     "name": "stdout",
     "output_type": "stream",
     "text": [
      "0\n"
     ]
    }
   ],
   "source": [
    "img = cv2.imread(\"5.jpg\")\n",
    "img = cv2.cvtColor(img, cv2.COLOR_BGR2RGB)\n",
    "img = cv2.resize(img, (224, 224))\n",
    "\n",
    "# predict the move made\n",
    "pred = model.predict(np.array([img]))\n",
    "move_code = np.argmax(pred[0]);\n",
    "print(move_code)"
   ]
  },
  {
   "cell_type": "code",
   "execution_count": null,
   "metadata": {},
   "outputs": [],
   "source": []
  }
 ],
 "metadata": {
  "kernelspec": {
   "display_name": "Python 3",
   "language": "python",
   "name": "python3"
  },
  "language_info": {
   "codemirror_mode": {
    "name": "ipython",
    "version": 3
   },
   "file_extension": ".py",
   "mimetype": "text/x-python",
   "name": "python",
   "nbconvert_exporter": "python",
   "pygments_lexer": "ipython3",
   "version": "3.8.5"
  }
 },
 "nbformat": 4,
 "nbformat_minor": 4
}
